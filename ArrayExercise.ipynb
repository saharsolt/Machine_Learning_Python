{
 "cells": [
  {
   "cell_type": "code",
   "execution_count": 22,
   "id": "06f069b2",
   "metadata": {},
   "outputs": [
    {
     "name": "stdout",
     "output_type": "stream",
     "text": [
      "['Neda', 'Masoud', 'Helen']\n"
     ]
    }
   ],
   "source": [
    "names =['Neda','Masoud','Helen']\n",
    "print (names)"
   ]
  },
  {
   "cell_type": "code",
   "execution_count": 23,
   "id": "90e66e3c",
   "metadata": {
    "scrolled": true
   },
   "outputs": [
    {
     "name": "stdout",
     "output_type": "stream",
     "text": [
      "[35 33 37]\n",
      "<class 'numpy.ndarray'>\n",
      "(3,)\n"
     ]
    }
   ],
   "source": [
    "import numpy as np\n",
    "\n",
    "ages = np.array([35,33,37]);\n",
    "print(ages)\n",
    "print(type(ages))\n",
    "print(ages.shape)"
   ]
  },
  {
   "cell_type": "code",
   "execution_count": 24,
   "id": "b62c0a45",
   "metadata": {},
   "outputs": [
    {
     "name": "stdout",
     "output_type": "stream",
     "text": [
      "[[0.92158524 0.44204413 0.21700187]]\n",
      "0\n"
     ]
    }
   ],
   "source": [
    "import numpy as np\n",
    "rnd = np.random.random((1,3))\n",
    "print(rnd)\n",
    "max_rnd=np.argmax(rnd)\n",
    "print(max_rnd)"
   ]
  },
  {
   "cell_type": "code",
   "execution_count": 25,
   "id": "83e323cb",
   "metadata": {},
   "outputs": [
    {
     "name": "stdout",
     "output_type": "stream",
     "text": [
      "['Sahar', 'Masoud', 'Helen']\n"
     ]
    }
   ],
   "source": [
    "names[max_rnd]=\"Sahar\"\n",
    "print(names)"
   ]
  },
  {
   "cell_type": "code",
   "execution_count": 26,
   "id": "3c8340dc",
   "metadata": {},
   "outputs": [
    {
     "name": "stdout",
     "output_type": "stream",
     "text": [
      "[34 33 37]\n"
     ]
    }
   ],
   "source": [
    "ages[max_rnd]=34;\n",
    "print(ages)"
   ]
  },
  {
   "cell_type": "code",
   "execution_count": null,
   "id": "714059c6",
   "metadata": {},
   "outputs": [],
   "source": []
  }
 ],
 "metadata": {
  "kernelspec": {
   "display_name": "Python 3 (ipykernel)",
   "language": "python",
   "name": "python3"
  },
  "language_info": {
   "codemirror_mode": {
    "name": "ipython",
    "version": 3
   },
   "file_extension": ".py",
   "mimetype": "text/x-python",
   "name": "python",
   "nbconvert_exporter": "python",
   "pygments_lexer": "ipython3",
   "version": "3.9.12"
  }
 },
 "nbformat": 4,
 "nbformat_minor": 5
}
