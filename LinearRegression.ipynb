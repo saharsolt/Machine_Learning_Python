{
 "cells": [
  {
   "cell_type": "code",
   "execution_count": 69,
   "id": "3f0bfcc7",
   "metadata": {},
   "outputs": [
    {
     "data": {
      "text/plain": [
       "(20640, 9)"
      ]
     },
     "execution_count": 69,
     "metadata": {},
     "output_type": "execute_result"
    }
   ],
   "source": [
    "import pandas as pd\n",
    "\n",
    "data= pd.read_csv('housing.csv')\n",
    "data.head()\n",
    "data.shape"
   ]
  },
  {
   "cell_type": "code",
   "execution_count": 70,
   "id": "35f9cf5d",
   "metadata": {},
   "outputs": [
    {
     "data": {
      "text/plain": [
       "(20640,)"
      ]
     },
     "execution_count": 70,
     "metadata": {},
     "output_type": "execute_result"
    }
   ],
   "source": [
    "y = data.pop('median_house_value')\n",
    "y.shape"
   ]
  },
  {
   "cell_type": "code",
   "execution_count": 71,
   "id": "2612ada0",
   "metadata": {},
   "outputs": [
    {
     "data": {
      "text/html": [
       "<div>\n",
       "<style scoped>\n",
       "    .dataframe tbody tr th:only-of-type {\n",
       "        vertical-align: middle;\n",
       "    }\n",
       "\n",
       "    .dataframe tbody tr th {\n",
       "        vertical-align: top;\n",
       "    }\n",
       "\n",
       "    .dataframe thead th {\n",
       "        text-align: right;\n",
       "    }\n",
       "</style>\n",
       "<table border=\"1\" class=\"dataframe\">\n",
       "  <thead>\n",
       "    <tr style=\"text-align: right;\">\n",
       "      <th></th>\n",
       "      <th>longitude</th>\n",
       "      <th>latitude</th>\n",
       "      <th>housing_median_age</th>\n",
       "      <th>total_rooms</th>\n",
       "      <th>total_bedrooms</th>\n",
       "      <th>population</th>\n",
       "      <th>households</th>\n",
       "      <th>median_income</th>\n",
       "    </tr>\n",
       "  </thead>\n",
       "  <tbody>\n",
       "    <tr>\n",
       "      <th>0</th>\n",
       "      <td>-122.23</td>\n",
       "      <td>37.88</td>\n",
       "      <td>41</td>\n",
       "      <td>880</td>\n",
       "      <td>129.0</td>\n",
       "      <td>322</td>\n",
       "      <td>126</td>\n",
       "      <td>8.3252</td>\n",
       "    </tr>\n",
       "    <tr>\n",
       "      <th>1</th>\n",
       "      <td>-122.22</td>\n",
       "      <td>37.86</td>\n",
       "      <td>21</td>\n",
       "      <td>7099</td>\n",
       "      <td>1106.0</td>\n",
       "      <td>2401</td>\n",
       "      <td>1138</td>\n",
       "      <td>8.3014</td>\n",
       "    </tr>\n",
       "    <tr>\n",
       "      <th>2</th>\n",
       "      <td>-122.24</td>\n",
       "      <td>37.85</td>\n",
       "      <td>52</td>\n",
       "      <td>1467</td>\n",
       "      <td>190.0</td>\n",
       "      <td>496</td>\n",
       "      <td>177</td>\n",
       "      <td>7.2574</td>\n",
       "    </tr>\n",
       "    <tr>\n",
       "      <th>3</th>\n",
       "      <td>-122.25</td>\n",
       "      <td>37.85</td>\n",
       "      <td>52</td>\n",
       "      <td>1274</td>\n",
       "      <td>235.0</td>\n",
       "      <td>558</td>\n",
       "      <td>219</td>\n",
       "      <td>5.6431</td>\n",
       "    </tr>\n",
       "    <tr>\n",
       "      <th>4</th>\n",
       "      <td>-122.25</td>\n",
       "      <td>37.85</td>\n",
       "      <td>52</td>\n",
       "      <td>1627</td>\n",
       "      <td>280.0</td>\n",
       "      <td>565</td>\n",
       "      <td>259</td>\n",
       "      <td>3.8462</td>\n",
       "    </tr>\n",
       "  </tbody>\n",
       "</table>\n",
       "</div>"
      ],
      "text/plain": [
       "   longitude  latitude  housing_median_age  total_rooms  total_bedrooms  \\\n",
       "0    -122.23     37.88                  41          880           129.0   \n",
       "1    -122.22     37.86                  21         7099          1106.0   \n",
       "2    -122.24     37.85                  52         1467           190.0   \n",
       "3    -122.25     37.85                  52         1274           235.0   \n",
       "4    -122.25     37.85                  52         1627           280.0   \n",
       "\n",
       "   population  households  median_income  \n",
       "0         322         126         8.3252  \n",
       "1        2401        1138         8.3014  \n",
       "2         496         177         7.2574  \n",
       "3         558         219         5.6431  \n",
       "4         565         259         3.8462  "
      ]
     },
     "execution_count": 71,
     "metadata": {},
     "output_type": "execute_result"
    }
   ],
   "source": [
    "data.head()"
   ]
  },
  {
   "cell_type": "code",
   "execution_count": 72,
   "id": "568ebf9a",
   "metadata": {},
   "outputs": [
    {
     "data": {
      "text/plain": [
       "longitude               0\n",
       "latitude                0\n",
       "housing_median_age      0\n",
       "total_rooms             0\n",
       "total_bedrooms        207\n",
       "population              0\n",
       "households              0\n",
       "median_income           0\n",
       "dtype: int64"
      ]
     },
     "execution_count": 72,
     "metadata": {},
     "output_type": "execute_result"
    }
   ],
   "source": [
    "data.isnull().sum()\n"
   ]
  },
  {
   "cell_type": "code",
   "execution_count": 73,
   "id": "a9a2bfc0",
   "metadata": {},
   "outputs": [
    {
     "name": "stdout",
     "output_type": "stream",
     "text": [
      "(20433,)\n"
     ]
    },
    {
     "data": {
      "text/plain": [
       "(20433, 8)"
      ]
     },
     "execution_count": 73,
     "metadata": {},
     "output_type": "execute_result"
    }
   ],
   "source": [
    "sampels_with_missing_values= data.isnull().any(axis=1)\n",
    "y = y[~sampels_with_missing_values]\n",
    "x = data.dropna()\n",
    "print(y.shape)\n",
    "x.shape"
   ]
  },
  {
   "cell_type": "code",
   "execution_count": 74,
   "id": "7633434a",
   "metadata": {},
   "outputs": [
    {
     "name": "stdout",
     "output_type": "stream",
     "text": [
      "Dataset contains 20640 sampels and 8 features\n"
     ]
    }
   ],
   "source": [
    "N,p = data.shape\n",
    "print('Dataset contains {} sampels and {} features'.format(N,p))"
   ]
  },
  {
   "cell_type": "code",
   "execution_count": 75,
   "id": "21ba30ef",
   "metadata": {},
   "outputs": [
    {
     "name": "stdout",
     "output_type": "stream",
     "text": [
      "[-4.27301205e+00 -4.25097369e+00  1.15790031e-01 -8.24972507e-04\n",
      "  1.13820707e-02 -3.83855780e-03  4.77013513e-03  4.02975217e+00]\n",
      "-358.5395747892445\n"
     ]
    }
   ],
   "source": [
    "from sklearn.linear_model import LinearRegression\n",
    "from sklearn.metrics import mean_squared_error\n",
    "from sklearn.metrics import mean_absolute_error\n",
    "\n",
    "lr_model = LinearRegression()\n",
    "lr_model.fit(x, y)\n",
    "\n",
    "print(lr_model.coef_)\n",
    "print(lr_model.intercept_)\n"
   ]
  },
  {
   "cell_type": "code",
   "execution_count": 76,
   "id": "b0bd1ced",
   "metadata": {},
   "outputs": [
    {
     "name": "stdout",
     "output_type": "stream",
     "text": [
      "Actual target value for the sample in index 3=34.13\n",
      "Estimated target value for sample in index 3=32.22\n"
     ]
    }
   ],
   "source": [
    "x_test=x.iloc[3:4,:]\n",
    "y_hat_test=lr_model.predict(x_test)\n",
    "\n",
    "print(\"Actual target value for the sample in index 3={:.2f}\".format(y[3]))\n",
    "print(\"Estimated target value for sample in index 3={:.2f}\".format(y_hat_test[0]))"
   ]
  },
  {
   "cell_type": "code",
   "execution_count": 77,
   "id": "b8c3c837",
   "metadata": {},
   "outputs": [
    {
     "name": "stdout",
     "output_type": "stream",
     "text": [
      "Training set MSE=48.38\n",
      "Training set MAE=5.08\n"
     ]
    }
   ],
   "source": [
    "y_test = lr_model.predict(x)\n",
    "\n",
    "mse= mean_squared_error(y,y_test)\n",
    "mae= mean_absolute_error(y,y_test)\n",
    "\n",
    "print(\"Training set MSE={:.2f}\".format(mse))\n",
    "print(\"Training set MAE={:.2f}\".format(mae))"
   ]
  },
  {
   "cell_type": "code",
   "execution_count": 78,
   "id": "0d19ee48",
   "metadata": {},
   "outputs": [
    {
     "name": "stdout",
     "output_type": "stream",
     "text": [
      "<class 'pandas.core.series.Series'>\n"
     ]
    },
    {
     "data": {
      "image/png": "[encoded data removed]",
      "text/plain": [
       "<Figure size 432x288 with 1 Axes>"
      ]
     },
     "metadata": {
      "needs_background": "light"
     },
     "output_type": "display_data"
    },
    {
     "data": {
      "image/png": "[encoded data removed]",
      "text/plain": [
       "<Figure size 432x288 with 1 Axes>"
      ]
     },
     "metadata": {
      "needs_background": "light"
     },
     "output_type": "display_data"
    },
    {
     "name": "stdout",
     "output_type": "stream",
     "text": [
      "y_hat = f(x) = 3.8494x + 7.4645\n"
     ]
    }
   ],
   "source": [
    "import matplotlib.pyplot as plt\n",
    "import pandas as pd\n",
    "\n",
    "x_new=x.copy()\n",
    "x_new=x_new.loc[range(200),\"median_income\"]\n",
    "y_new=y.copy()\n",
    "y_new=y_new.loc[range(200)]\n",
    "print(type(x_new))\n",
    "\n",
    "fig,ax=plt.subplots()\n",
    "ax.scatter(x_new, y_new, marker='.', label=\"Data points\", color='blue',linewidth=1.75)\n",
    "ax.set_xlabel(\"$x $: Median income in block\",fontsize=12)\n",
    "ax.set_ylabel(\"$y $: Price (\\$)\",fontsize=12)\n",
    "\n",
    "plt.show()\n",
    "\n",
    "x_new = x_new.values\n",
    "x_new =x_new.reshape(-1,1)\n",
    "\n",
    "lr_new_model= LinearRegression()\n",
    "\n",
    "lr_new_model.fit(x_new,y_new)\n",
    "fig,ax=plt.subplots()\n",
    "ax.scatter(x_new, y_new, color='blue', marker='.', linewidth=1.75, label='Data points')\n",
    "ax.set_xlabel(\"$x $: Median income in block\", fontsize=12)\n",
    "ax.set_ylabel(\"$y $: Price (\\$)\", fontsize=12)\n",
    "\n",
    "y_pred = lr_new_model.predict(x_new)\n",
    "ax.plot(x_new,y_pred, color=\"red\",linewidth=1.75, label=\"Regressor\")\n",
    "\n",
    "ax.legend()\n",
    "plt.show()\n",
    "w = lr_new_model.coef_[0]\n",
    "b = lr_new_model.intercept_\n",
    "print(\"y_hat = f(x) = {:.4f}x + {:.4f}\".format(w, b))"
   ]
  },
  {
   "cell_type": "code",
   "execution_count": null,
   "id": "0e4958b9",
   "metadata": {},
   "outputs": [],
   "source": []
  }
 ],
 "metadata": {
  "kernelspec": {
   "display_name": "Python 3 (ipykernel)",
   "language": "python",
   "name": "python3"
  },
  "language_info": {
   "codemirror_mode": {
    "name": "ipython",
    "version": 3
   },
   "file_extension": ".py",
   "mimetype": "text/x-python",
   "name": "python",
   "nbconvert_exporter": "python",
   "pygments_lexer": "ipython3",
   "version": "3.9.12"
  }
 },
 "nbformat": 4,
 "nbformat_minor": 5
}
