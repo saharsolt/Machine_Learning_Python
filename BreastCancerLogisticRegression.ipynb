{
 "cells": [
  {
   "cell_type": "code",
   "execution_count": 25,
   "id": "4338056e",
   "metadata": {},
   "outputs": [
    {
     "data": {
      "text/html": [
       "<div>\n",
       "<style scoped>\n",
       "    .dataframe tbody tr th:only-of-type {\n",
       "        vertical-align: middle;\n",
       "    }\n",
       "\n",
       "    .dataframe tbody tr th {\n",
       "        vertical-align: top;\n",
       "    }\n",
       "\n",
       "    .dataframe thead th {\n",
       "        text-align: right;\n",
       "    }\n",
       "</style>\n",
       "<table border=\"1\" class=\"dataframe\">\n",
       "  <thead>\n",
       "    <tr style=\"text-align: right;\">\n",
       "      <th></th>\n",
       "      <th>ID</th>\n",
       "      <th>diagnosis</th>\n",
       "      <th>Attr1</th>\n",
       "      <th>Attr2</th>\n",
       "      <th>Attr3</th>\n",
       "      <th>Attr4</th>\n",
       "      <th>Attr5</th>\n",
       "      <th>Attr6</th>\n",
       "      <th>Attr7</th>\n",
       "      <th>Attr8</th>\n",
       "      <th>...</th>\n",
       "      <th>Attr21</th>\n",
       "      <th>Attr22</th>\n",
       "      <th>Attr23</th>\n",
       "      <th>Attr24</th>\n",
       "      <th>Attr25</th>\n",
       "      <th>Attr26</th>\n",
       "      <th>Attr27</th>\n",
       "      <th>Attr28</th>\n",
       "      <th>Attr29</th>\n",
       "      <th>Attr30</th>\n",
       "    </tr>\n",
       "  </thead>\n",
       "  <tbody>\n",
       "    <tr>\n",
       "      <th>0</th>\n",
       "      <td>842302</td>\n",
       "      <td>M</td>\n",
       "      <td>17.99</td>\n",
       "      <td>10.38</td>\n",
       "      <td>122.80</td>\n",
       "      <td>1001.0</td>\n",
       "      <td>0.11840</td>\n",
       "      <td>0.27760</td>\n",
       "      <td>0.3001</td>\n",
       "      <td>0.14710</td>\n",
       "      <td>...</td>\n",
       "      <td>25.38</td>\n",
       "      <td>17.33</td>\n",
       "      <td>184.60</td>\n",
       "      <td>2019.0</td>\n",
       "      <td>0.1622</td>\n",
       "      <td>0.6656</td>\n",
       "      <td>0.7119</td>\n",
       "      <td>0.2654</td>\n",
       "      <td>0.4601</td>\n",
       "      <td>0.11890</td>\n",
       "    </tr>\n",
       "    <tr>\n",
       "      <th>1</th>\n",
       "      <td>842517</td>\n",
       "      <td>M</td>\n",
       "      <td>20.57</td>\n",
       "      <td>17.77</td>\n",
       "      <td>132.90</td>\n",
       "      <td>1326.0</td>\n",
       "      <td>0.08474</td>\n",
       "      <td>0.07864</td>\n",
       "      <td>0.0869</td>\n",
       "      <td>0.07017</td>\n",
       "      <td>...</td>\n",
       "      <td>24.99</td>\n",
       "      <td>23.41</td>\n",
       "      <td>158.80</td>\n",
       "      <td>1956.0</td>\n",
       "      <td>0.1238</td>\n",
       "      <td>0.1866</td>\n",
       "      <td>0.2416</td>\n",
       "      <td>0.1860</td>\n",
       "      <td>0.2750</td>\n",
       "      <td>0.08902</td>\n",
       "    </tr>\n",
       "    <tr>\n",
       "      <th>2</th>\n",
       "      <td>84300903</td>\n",
       "      <td>M</td>\n",
       "      <td>19.69</td>\n",
       "      <td>21.25</td>\n",
       "      <td>130.00</td>\n",
       "      <td>1203.0</td>\n",
       "      <td>0.10960</td>\n",
       "      <td>0.15990</td>\n",
       "      <td>0.1974</td>\n",
       "      <td>0.12790</td>\n",
       "      <td>...</td>\n",
       "      <td>23.57</td>\n",
       "      <td>25.53</td>\n",
       "      <td>152.50</td>\n",
       "      <td>1709.0</td>\n",
       "      <td>0.1444</td>\n",
       "      <td>0.4245</td>\n",
       "      <td>0.4504</td>\n",
       "      <td>0.2430</td>\n",
       "      <td>0.3613</td>\n",
       "      <td>0.08758</td>\n",
       "    </tr>\n",
       "    <tr>\n",
       "      <th>3</th>\n",
       "      <td>84348301</td>\n",
       "      <td>M</td>\n",
       "      <td>11.42</td>\n",
       "      <td>20.38</td>\n",
       "      <td>77.58</td>\n",
       "      <td>386.1</td>\n",
       "      <td>0.14250</td>\n",
       "      <td>0.28390</td>\n",
       "      <td>0.2414</td>\n",
       "      <td>0.10520</td>\n",
       "      <td>...</td>\n",
       "      <td>14.91</td>\n",
       "      <td>26.50</td>\n",
       "      <td>98.87</td>\n",
       "      <td>567.7</td>\n",
       "      <td>0.2098</td>\n",
       "      <td>0.8663</td>\n",
       "      <td>0.6869</td>\n",
       "      <td>0.2575</td>\n",
       "      <td>0.6638</td>\n",
       "      <td>0.17300</td>\n",
       "    </tr>\n",
       "    <tr>\n",
       "      <th>4</th>\n",
       "      <td>84358402</td>\n",
       "      <td>M</td>\n",
       "      <td>20.29</td>\n",
       "      <td>14.34</td>\n",
       "      <td>135.10</td>\n",
       "      <td>1297.0</td>\n",
       "      <td>0.10030</td>\n",
       "      <td>0.13280</td>\n",
       "      <td>0.1980</td>\n",
       "      <td>0.10430</td>\n",
       "      <td>...</td>\n",
       "      <td>22.54</td>\n",
       "      <td>16.67</td>\n",
       "      <td>152.20</td>\n",
       "      <td>1575.0</td>\n",
       "      <td>0.1374</td>\n",
       "      <td>0.2050</td>\n",
       "      <td>0.4000</td>\n",
       "      <td>0.1625</td>\n",
       "      <td>0.2364</td>\n",
       "      <td>0.07678</td>\n",
       "    </tr>\n",
       "  </tbody>\n",
       "</table>\n",
       "<p>5 rows × 32 columns</p>\n",
       "</div>"
      ],
      "text/plain": [
       "         ID diagnosis  Attr1  Attr2   Attr3   Attr4    Attr5    Attr6   Attr7  \\\n",
       "0    842302         M  17.99  10.38  122.80  1001.0  0.11840  0.27760  0.3001   \n",
       "1    842517         M  20.57  17.77  132.90  1326.0  0.08474  0.07864  0.0869   \n",
       "2  84300903         M  19.69  21.25  130.00  1203.0  0.10960  0.15990  0.1974   \n",
       "3  84348301         M  11.42  20.38   77.58   386.1  0.14250  0.28390  0.2414   \n",
       "4  84358402         M  20.29  14.34  135.10  1297.0  0.10030  0.13280  0.1980   \n",
       "\n",
       "     Attr8  ...  Attr21  Attr22  Attr23  Attr24  Attr25  Attr26  Attr27  \\\n",
       "0  0.14710  ...   25.38   17.33  184.60  2019.0  0.1622  0.6656  0.7119   \n",
       "1  0.07017  ...   24.99   23.41  158.80  1956.0  0.1238  0.1866  0.2416   \n",
       "2  0.12790  ...   23.57   25.53  152.50  1709.0  0.1444  0.4245  0.4504   \n",
       "3  0.10520  ...   14.91   26.50   98.87   567.7  0.2098  0.8663  0.6869   \n",
       "4  0.10430  ...   22.54   16.67  152.20  1575.0  0.1374  0.2050  0.4000   \n",
       "\n",
       "   Attr28  Attr29   Attr30  \n",
       "0  0.2654  0.4601  0.11890  \n",
       "1  0.1860  0.2750  0.08902  \n",
       "2  0.2430  0.3613  0.08758  \n",
       "3  0.2575  0.6638  0.17300  \n",
       "4  0.1625  0.2364  0.07678  \n",
       "\n",
       "[5 rows x 32 columns]"
      ]
     },
     "execution_count": 25,
     "metadata": {},
     "output_type": "execute_result"
    }
   ],
   "source": [
    "import pandas as pd\n",
    "\n",
    "data = pd.read_csv('Breast-cancer.csv')\n",
    "data.head()"
   ]
  },
  {
   "cell_type": "code",
   "execution_count": 26,
   "id": "5fde0462",
   "metadata": {},
   "outputs": [
    {
     "name": "stdout",
     "output_type": "stream",
     "text": [
      "This data contains 569 sampels and 32 features\n"
     ]
    }
   ],
   "source": [
    "N, p = data.shape\n",
    "print(\"This data contains {} sampels and {} features\".format(N,p))"
   ]
  },
  {
   "cell_type": "code",
   "execution_count": 27,
   "id": "ddafb87e",
   "metadata": {},
   "outputs": [
    {
     "name": "stdout",
     "output_type": "stream",
     "text": [
      "This data contains 569 sampels and 31 features\n"
     ]
    }
   ],
   "source": [
    "data = data.drop('ID',axis=1)\n",
    "N, p = data.shape\n",
    "print(\"This data contains {} sampels and {} features\".format(N,p))"
   ]
  },
  {
   "cell_type": "code",
   "execution_count": 28,
   "id": "4753312b",
   "metadata": {},
   "outputs": [
    {
     "name": "stdout",
     "output_type": "stream",
     "text": [
      "(569,)\n"
     ]
    }
   ],
   "source": [
    "y = data.pop('diagnosis')\n",
    "print(y.shape)"
   ]
  },
  {
   "cell_type": "code",
   "execution_count": 29,
   "id": "3e84cd42",
   "metadata": {},
   "outputs": [
    {
     "name": "stdout",
     "output_type": "stream",
     "text": [
      "0      1\n",
      "1      1\n",
      "2      1\n",
      "3      1\n",
      "4      1\n",
      "      ..\n",
      "564    1\n",
      "565    1\n",
      "566    1\n",
      "567    1\n",
      "568    0\n",
      "Name: diagnosis, Length: 569, dtype: int64\n"
     ]
    }
   ],
   "source": [
    "y = y.replace(['M','B'],[1,0])\n",
    "print(y)"
   ]
  },
  {
   "cell_type": "code",
   "execution_count": 30,
   "id": "38543c06",
   "metadata": {},
   "outputs": [
    {
     "data": {
      "text/plain": [
       "Attr1     0\n",
       "Attr2     0\n",
       "Attr3     0\n",
       "Attr4     0\n",
       "Attr5     0\n",
       "Attr6     0\n",
       "Attr7     0\n",
       "Attr8     0\n",
       "Attr9     0\n",
       "Attr10    0\n",
       "Attr11    0\n",
       "Attr12    0\n",
       "Attr13    0\n",
       "Attr14    0\n",
       "Attr15    0\n",
       "Attr16    0\n",
       "Attr17    0\n",
       "Attr18    0\n",
       "Attr19    0\n",
       "Attr20    0\n",
       "Attr21    0\n",
       "Attr22    0\n",
       "Attr23    0\n",
       "Attr24    0\n",
       "Attr25    0\n",
       "Attr26    0\n",
       "Attr27    0\n",
       "Attr28    0\n",
       "Attr29    0\n",
       "Attr30    0\n",
       "dtype: int64"
      ]
     },
     "execution_count": 30,
     "metadata": {},
     "output_type": "execute_result"
    }
   ],
   "source": [
    "data.isnull().sum()"
   ]
  },
  {
   "cell_type": "code",
   "execution_count": 31,
   "id": "0115d513",
   "metadata": {},
   "outputs": [
    {
     "name": "stdout",
     "output_type": "stream",
     "text": [
      "<class 'numpy.ndarray'>\n",
      "<class 'numpy.ndarray'>\n"
     ]
    }
   ],
   "source": [
    "from sklearn.preprocessing import StandardScaler\n",
    "\n",
    "scaler = StandardScaler()\n",
    "scaler.fit(data)\n",
    "data=scaler.transform(data)\n",
    "print(type(data))\n",
    "\n",
    "#or\n",
    "scaler = StandardScaler()\n",
    "x= scaler.fit_transform(data)\n",
    "print(type(x))"
   ]
  },
  {
   "cell_type": "code",
   "execution_count": 32,
   "id": "f6763dad",
   "metadata": {},
   "outputs": [
    {
     "data": {
      "text/plain": [
       "LogisticRegression(fit_intercept=False, solver='liblinear')"
      ]
     },
     "execution_count": 32,
     "metadata": {},
     "output_type": "execute_result"
    }
   ],
   "source": [
    "from sklearn.linear_model import LogisticRegression\n",
    "\n",
    "log_model = LogisticRegression(solver=\"liblinear\",fit_intercept=False)\n",
    "log_model.fit(x,y)"
   ]
  },
  {
   "cell_type": "code",
   "execution_count": 33,
   "id": "493dc291",
   "metadata": {},
   "outputs": [
    {
     "name": "stdout",
     "output_type": "stream",
     "text": [
      "Weights = \n",
      "[ 0.3064925   0.37601767  0.29909613  0.47457416  0.12462512 -0.59894177\n",
      "  0.91610025  0.99924097 -0.06003013 -0.25617591  1.31912618 -0.2736834\n",
      "  0.69866917  1.12309861  0.29979412 -0.77671968 -0.12895296  0.25274684\n",
      " -0.25971771 -0.62323882  1.03770689  1.30421851  0.83861088  1.12843997\n",
      "  0.68173109 -0.07147825  0.86605612  0.90745226  0.86446369  0.50536168]\n"
     ]
    }
   ],
   "source": [
    "w = log_model.coef_[0]\n",
    "#b = log_model.intercept_[0]\n",
    "print(\"Weights = \\n{}\".format(w))\n",
    "#print(\"\\nIntercept (bias)= {:.4f}\".format(b))"
   ]
  },
  {
   "cell_type": "code",
   "execution_count": 39,
   "id": "9942a45c",
   "metadata": {},
   "outputs": [
    {
     "name": "stdout",
     "output_type": "stream",
     "text": [
      "Actual label of the 40th sample: 1, predicted label of the 40th sample: 1\n"
     ]
    }
   ],
   "source": [
    "x_40 = x[39:40,:]\n",
    "y_40 = y[39]\n",
    "y_hat_40= log_model.predict(x_40)\n",
    "print(\"Actual label of the 40th sample: {}, \".format(y_40) + \\\n",
    "      \"predicted label of the 40th sample: {}\".format(y_hat_40[0]))"
   ]
  },
  {
   "cell_type": "code",
   "execution_count": 40,
   "id": "e0ebd887",
   "metadata": {},
   "outputs": [
    {
     "name": "stdout",
     "output_type": "stream",
     "text": [
      "Actual label of the 74th sample: 1, predicted label of the 74th sample: 0\n"
     ]
    }
   ],
   "source": [
    "x_74 = x[73:74,:]\n",
    "y_74 = y[73]\n",
    "y_hat_74= log_model.predict(x_74)\n",
    "print(\"Actual label of the 74th sample: {}, \".format(y_74) + \\\n",
    "      \"predicted label of the 74th sample: {}\".format(y_hat_74[0]))"
   ]
  },
  {
   "cell_type": "code",
   "execution_count": 41,
   "id": "16336b60",
   "metadata": {},
   "outputs": [
    {
     "name": "stdout",
     "output_type": "stream",
     "text": [
      "accuracy is 0.9876977152899824\n"
     ]
    }
   ],
   "source": [
    "print(\"accuracy is {}\".format(log_model.score(x,y)))"
   ]
  },
  {
   "cell_type": "code",
   "execution_count": 42,
   "id": "96946c7c",
   "metadata": {},
   "outputs": [
    {
     "data": {
      "text/plain": [
       "7"
      ]
     },
     "execution_count": 42,
     "metadata": {},
     "output_type": "execute_result"
    }
   ],
   "source": [
    "sum(y != log_model.predict(x))"
   ]
  },
  {
   "cell_type": "code",
   "execution_count": null,
   "id": "d7dacfd9",
   "metadata": {},
   "outputs": [],
   "source": []
  }
 ],
 "metadata": {
  "kernelspec": {
   "display_name": "Python 3 (ipykernel)",
   "language": "python",
   "name": "python3"
  },
  "language_info": {
   "codemirror_mode": {
    "name": "ipython",
    "version": 3
   },
   "file_extension": ".py",
   "mimetype": "text/x-python",
   "name": "python",
   "nbconvert_exporter": "python",
   "pygments_lexer": "ipython3",
   "version": "3.9.12"
  }
 },
 "nbformat": 4,
 "nbformat_minor": 5
}
