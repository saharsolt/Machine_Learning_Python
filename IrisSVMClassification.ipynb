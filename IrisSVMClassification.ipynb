{
 "cells": [
  {
   "cell_type": "code",
   "execution_count": 36,
   "id": "b8a96c9a",
   "metadata": {},
   "outputs": [
    {
     "name": "stdout",
     "output_type": "stream",
     "text": [
      "(150,)\n",
      "0         setosa\n",
      "1         setosa\n",
      "2         setosa\n",
      "3         setosa\n",
      "4         setosa\n",
      "         ...    \n",
      "145    virginica\n",
      "146    virginica\n",
      "147    virginica\n",
      "148    virginica\n",
      "149    virginica\n",
      "Name: class, Length: 150, dtype: object\n"
     ]
    }
   ],
   "source": [
    "import pandas as pd\n",
    "\n",
    "data = pd.read_csv('Iris-dataset.csv')\n",
    "data.head()\n",
    "y = data.pop('class')\n",
    "print(y.shape)\n",
    "print(y)"
   ]
  },
  {
   "cell_type": "code",
   "execution_count": 37,
   "id": "7629a8a1",
   "metadata": {},
   "outputs": [
    {
     "name": "stdout",
     "output_type": "stream",
     "text": [
      "(150,)\n"
     ]
    }
   ],
   "source": [
    "y_transormed = y.copy()\n",
    "y_transormed = y_transormed.replace(['setosa', 'versicolor', 'virginica'], [0, 1, 2])\n",
    "print(y_transormed.shape)\n"
   ]
  },
  {
   "cell_type": "code",
   "execution_count": 38,
   "id": "d338dc28",
   "metadata": {},
   "outputs": [
    {
     "name": "stdout",
     "output_type": "stream",
     "text": [
      "(150,)\n"
     ]
    }
   ],
   "source": [
    "from sklearn.preprocessing import LabelEncoder\n",
    "\n",
    "encode = LabelEncoder()\n",
    "y = encode.fit_transform(y)\n",
    "print(y.shape)"
   ]
  },
  {
   "cell_type": "code",
   "execution_count": 39,
   "id": "dc8bd575",
   "metadata": {},
   "outputs": [
    {
     "data": {
      "text/plain": [
       "sepal_length    4\n",
       "sepal_width     1\n",
       "petal_length    3\n",
       "petal_width     4\n",
       "dtype: int64"
      ]
     },
     "execution_count": 39,
     "metadata": {},
     "output_type": "execute_result"
    }
   ],
   "source": [
    "data.isnull().sum()"
   ]
  },
  {
   "cell_type": "code",
   "execution_count": 40,
   "id": "fa073d35",
   "metadata": {},
   "outputs": [
    {
     "data": {
      "text/plain": [
       "11"
      ]
     },
     "execution_count": 40,
     "metadata": {},
     "output_type": "execute_result"
    }
   ],
   "source": [
    "data.T.isnull().any().sum()"
   ]
  },
  {
   "cell_type": "code",
   "execution_count": 41,
   "id": "0bde5f86",
   "metadata": {},
   "outputs": [
    {
     "name": "stdout",
     "output_type": "stream",
     "text": [
      "(150, 4)\n"
     ]
    }
   ],
   "source": [
    "from sklearn.impute import KNNImputer\n",
    "\n",
    "mean = KNNImputer(n_neighbors=3)\n",
    "X=mean.fit_transform(data)\n",
    "#X was converted to an array from Datafram by fitting\n",
    "print(X.shape)"
   ]
  },
  {
   "cell_type": "code",
   "execution_count": 42,
   "id": "ca6aebc2",
   "metadata": {},
   "outputs": [
    {
     "name": "stdout",
     "output_type": "stream",
     "text": [
      "This dataset contains 150 samples and 4 features\n",
      "This target value contains [0 1 2] classes\n",
      "This target value contains 3 classes\n"
     ]
    }
   ],
   "source": [
    "import numpy as np\n",
    "N,p = np.shape(data)\n",
    "classes = np.unique(y)\n",
    "print(\"This dataset contains {} samples and {} features\".format(N,p))\n",
    "print(\"This target value contains {} classes\".format(classes))\n",
    "print(\"This target value contains {} classes\".format(len(classes)))"
   ]
  },
  {
   "cell_type": "code",
   "execution_count": 43,
   "id": "bc1df2b0",
   "metadata": {},
   "outputs": [
    {
     "data": {
      "text/html": [
       "<div>\n",
       "<style scoped>\n",
       "    .dataframe tbody tr th:only-of-type {\n",
       "        vertical-align: middle;\n",
       "    }\n",
       "\n",
       "    .dataframe tbody tr th {\n",
       "        vertical-align: top;\n",
       "    }\n",
       "\n",
       "    .dataframe thead th {\n",
       "        text-align: right;\n",
       "    }\n",
       "</style>\n",
       "<table border=\"1\" class=\"dataframe\">\n",
       "  <thead>\n",
       "    <tr style=\"text-align: right;\">\n",
       "      <th></th>\n",
       "      <th>sepal_length</th>\n",
       "      <th>sepal_width</th>\n",
       "      <th>petal_length</th>\n",
       "      <th>petal_width</th>\n",
       "    </tr>\n",
       "  </thead>\n",
       "  <tbody>\n",
       "    <tr>\n",
       "      <th>count</th>\n",
       "      <td>146.00000</td>\n",
       "      <td>149.000000</td>\n",
       "      <td>147.000000</td>\n",
       "      <td>146.000000</td>\n",
       "    </tr>\n",
       "    <tr>\n",
       "      <th>mean</th>\n",
       "      <td>5.84726</td>\n",
       "      <td>3.059732</td>\n",
       "      <td>3.804762</td>\n",
       "      <td>1.197260</td>\n",
       "    </tr>\n",
       "    <tr>\n",
       "      <th>std</th>\n",
       "      <td>0.83213</td>\n",
       "      <td>0.429317</td>\n",
       "      <td>1.752155</td>\n",
       "      <td>0.756849</td>\n",
       "    </tr>\n",
       "    <tr>\n",
       "      <th>min</th>\n",
       "      <td>4.30000</td>\n",
       "      <td>2.000000</td>\n",
       "      <td>1.000000</td>\n",
       "      <td>0.100000</td>\n",
       "    </tr>\n",
       "    <tr>\n",
       "      <th>25%</th>\n",
       "      <td>5.10000</td>\n",
       "      <td>2.800000</td>\n",
       "      <td>1.600000</td>\n",
       "      <td>0.300000</td>\n",
       "    </tr>\n",
       "    <tr>\n",
       "      <th>50%</th>\n",
       "      <td>5.80000</td>\n",
       "      <td>3.000000</td>\n",
       "      <td>4.400000</td>\n",
       "      <td>1.300000</td>\n",
       "    </tr>\n",
       "    <tr>\n",
       "      <th>75%</th>\n",
       "      <td>6.40000</td>\n",
       "      <td>3.300000</td>\n",
       "      <td>5.100000</td>\n",
       "      <td>1.800000</td>\n",
       "    </tr>\n",
       "    <tr>\n",
       "      <th>max</th>\n",
       "      <td>7.90000</td>\n",
       "      <td>4.400000</td>\n",
       "      <td>6.900000</td>\n",
       "      <td>2.500000</td>\n",
       "    </tr>\n",
       "  </tbody>\n",
       "</table>\n",
       "</div>"
      ],
      "text/plain": [
       "       sepal_length  sepal_width  petal_length  petal_width\n",
       "count     146.00000   149.000000    147.000000   146.000000\n",
       "mean        5.84726     3.059732      3.804762     1.197260\n",
       "std         0.83213     0.429317      1.752155     0.756849\n",
       "min         4.30000     2.000000      1.000000     0.100000\n",
       "25%         5.10000     2.800000      1.600000     0.300000\n",
       "50%         5.80000     3.000000      4.400000     1.300000\n",
       "75%         6.40000     3.300000      5.100000     1.800000\n",
       "max         7.90000     4.400000      6.900000     2.500000"
      ]
     },
     "execution_count": 43,
     "metadata": {},
     "output_type": "execute_result"
    }
   ],
   "source": [
    "data.describe()"
   ]
  },
  {
   "cell_type": "code",
   "execution_count": 44,
   "id": "81074799",
   "metadata": {},
   "outputs": [
    {
     "name": "stdout",
     "output_type": "stream",
     "text": [
      "(150,)\n"
     ]
    },
    {
     "data": {
      "image/png": "[encoded data removed]",
      "text/plain": [
       "<Figure size 432x288 with 1 Axes>"
      ]
     },
     "metadata": {
      "needs_background": "light"
     },
     "output_type": "display_data"
    }
   ],
   "source": [
    "import matplotlib.pyplot as plt\n",
    "sepal_area=data['sepal_length'] * data['sepal_width']\n",
    "petal_area=data['petal_length'] * data['petal_width']\n",
    "print(sepal_area.shape)\n",
    "fig,ax = plt.subplots()\n",
    "ax.scatter(sepal_area.loc[y==0],petal_area.loc[y==0], label='setosa',color='blue')\n",
    "ax.scatter(sepal_area.loc[y==1],petal_area.loc[y==1], label='versicolor',color='red')\n",
    "ax.scatter(sepal_area.loc[y==2],petal_area.loc[y==2], label='virginica',color='yellow')\n",
    "ax.set_xlabel('Sepal length * sepal width')\n",
    "ax.set_ylabel('Petal length * petal width')\n",
    "ax.legend()\n",
    "plt.show()"
   ]
  },
  {
   "cell_type": "code",
   "execution_count": 45,
   "id": "32d00bc2",
   "metadata": {},
   "outputs": [
    {
     "data": {
      "text/plain": [
       "SVC()"
      ]
     },
     "execution_count": 45,
     "metadata": {},
     "output_type": "execute_result"
    }
   ],
   "source": [
    "from sklearn.svm import SVC\n",
    "\n",
    "svm = SVC(kernel='rbf',decision_function_shape ='ovr')\n",
    "\n",
    "svm.fit(X,y)"
   ]
  },
  {
   "cell_type": "code",
   "execution_count": 46,
   "id": "8538476e",
   "metadata": {},
   "outputs": [
    {
     "name": "stdout",
     "output_type": "stream",
     "text": [
      "[0 0 0 0 0 0 0 0 0 0 0 0 0 0 0 0 0 0 0 0 0 0 0 0 0 0 0 0 0 0 0 0 0 0 0 0 0\n",
      " 0 0 0 0 0 0 0 0 0 0 0 0 0 1 1 1 1 1 1 1 1 1 1 1 1 1 1 1 1 1 1 1 1 1 1 1 1\n",
      " 1 1 1 1 1 1 1 1 1 1 1 1 1 1 1 1 1 1 1 1 1 1 1 1 1 1 2 2 2 2 2 2 2 2 2 2 2\n",
      " 2 2 2 2 2 2 2 2 2 2 2 2 2 2 2 2 2 2 2 2 2 2 2 2 2 2 2 2 2 2 2 2 2 2 2 2 2\n",
      " 2 2]\n",
      "[0 0 0 0 0 0 0 0 0 0 0 0 0 0 0 0 0 0 0 0 0 0 0 0 0 0 0 0 0 0 0 0 0 0 0 0 0\n",
      " 0 0 0 0 0 0 0 0 0 0 0 0 0 1 1 1 1 1 1 1 1 1 1 1 1 1 1 1 1 1 1 1 1 1 1 1 1\n",
      " 1 1 1 1 1 1 1 1 1 1 1 1 1 1 1 1 1 1 1 1 1 1 1 1 1 1 1 1 1 1 1 1 1 1 1 1 1\n",
      " 1 1 1 1 1 1 1 1 1 1 1 1 1 1 1 1 1 1 1 1 1 1 1 1 1 1 1 1 1 1 1 1 1 1 1 1 1\n",
      " 1 1]\n"
     ]
    },
    {
     "data": {
      "text/html": [
       "<div>\n",
       "<style scoped>\n",
       "    .dataframe tbody tr th:only-of-type {\n",
       "        vertical-align: middle;\n",
       "    }\n",
       "\n",
       "    .dataframe tbody tr th {\n",
       "        vertical-align: top;\n",
       "    }\n",
       "\n",
       "    .dataframe thead th {\n",
       "        text-align: right;\n",
       "    }\n",
       "</style>\n",
       "<table border=\"1\" class=\"dataframe\">\n",
       "  <thead>\n",
       "    <tr style=\"text-align: right;\">\n",
       "      <th></th>\n",
       "      <th>sepal_area</th>\n",
       "      <th>petal_area</th>\n",
       "    </tr>\n",
       "  </thead>\n",
       "  <tbody>\n",
       "    <tr>\n",
       "      <th>0</th>\n",
       "      <td>17.85</td>\n",
       "      <td>0.28</td>\n",
       "    </tr>\n",
       "    <tr>\n",
       "      <th>1</th>\n",
       "      <td>14.70</td>\n",
       "      <td>0.28</td>\n",
       "    </tr>\n",
       "    <tr>\n",
       "      <th>2</th>\n",
       "      <td>15.04</td>\n",
       "      <td>0.26</td>\n",
       "    </tr>\n",
       "    <tr>\n",
       "      <th>3</th>\n",
       "      <td>14.26</td>\n",
       "      <td>0.30</td>\n",
       "    </tr>\n",
       "    <tr>\n",
       "      <th>4</th>\n",
       "      <td>18.00</td>\n",
       "      <td>NaN</td>\n",
       "    </tr>\n",
       "  </tbody>\n",
       "</table>\n",
       "</div>"
      ],
      "text/plain": [
       "   sepal_area  petal_area\n",
       "0       17.85        0.28\n",
       "1       14.70        0.28\n",
       "2       15.04        0.26\n",
       "3       14.26        0.30\n",
       "4       18.00         NaN"
      ]
     },
     "execution_count": 46,
     "metadata": {},
     "output_type": "execute_result"
    }
   ],
   "source": [
    "y_new = y.copy()\n",
    "print(y_new)\n",
    "y_new[y_new !=0]=1\n",
    "print(y_new)\n",
    "\n",
    "data_new=pd.DataFrame(data={'sepal_area':sepal_area ,'petal_area':petal_area})\n",
    "data_new.head()"
   ]
  },
  {
   "cell_type": "code",
   "execution_count": 47,
   "id": "6b4349d5",
   "metadata": {},
   "outputs": [
    {
     "name": "stdout",
     "output_type": "stream",
     "text": [
      "[0 0 0 0 0 0 0 0 0 0 0 0 0 0 0 0 0 0 0 0 0 0 0 0 0 0 0 0 0 0 0 0 0 0 0 0 0\n",
      " 0 0 0 0 0 0 0 0 1 1 1 1 1 1 1 1 1 1 1 1 1 1 1 1 1 1 1 1 1 1 1 1 1 1 1 1 1\n",
      " 1 1 1 1 1 1 1 1 1 1 1 1 1 1 1 1 1 1 1 1 1 1 1 1 1 1 1 1 1 1 1 1 1 1 1 1 1\n",
      " 1 1 1 1 1 1 1 1 1 1 1 1 1 1 1 1 1 1 1 1 1 1 1 1 1 1 1 1]\n",
      "139\n",
      "139\n"
     ]
    }
   ],
   "source": [
    "NaN_index = data_new.T.isnull().any()\n",
    "y_new=y_new[~NaN_index]\n",
    "data_new=data_new.dropna(axis=0)\n",
    "print(y_new)\n",
    "print(len(data_new))\n",
    "print(len(y_new))"
   ]
  },
  {
   "cell_type": "code",
   "execution_count": 48,
   "id": "e4124b5b",
   "metadata": {},
   "outputs": [
    {
     "data": {
      "image/png": "[encoded data removed]",
      "text/plain": [
       "<Figure size 432x288 with 1 Axes>"
      ]
     },
     "metadata": {
      "needs_background": "light"
     },
     "output_type": "display_data"
    }
   ],
   "source": [
    "import matplotlib.pyplot as plt\n",
    "\n",
    "fig, ax = plt.subplots()\n",
    "ax.scatter(data_new.loc[y_new==0, 'sepal_area'], data_new.loc[y_new==0, 'petal_area'], label='Setosa', color='blue')\n",
    "ax.scatter(data_new.loc[y_new==1, 'sepal_area'], data_new.loc[y_new==1, 'petal_area'], label='Versicolor\\nVerginica', color='orange')\n",
    "\n",
    "ax.set_xlabel(r'$x_1$: Sepal length $\\times$ width (cm$^2$)', fontsize=12)\n",
    "ax.set_ylabel(r'$x_2$: Petal length $\\times$ width (cm$^2$)', fontsize=12)\n",
    "ax.legend()\n",
    "plt.show()"
   ]
  },
  {
   "cell_type": "code",
   "execution_count": 50,
   "id": "3cc09015",
   "metadata": {},
   "outputs": [
    {
     "data": {
      "text/plain": [
       "SVC(kernel='linear')"
      ]
     },
     "execution_count": 50,
     "metadata": {},
     "output_type": "execute_result"
    }
   ],
   "source": [
    "svm_linear_model= SVC(kernel='linear',decision_function_shape='ovr')\n",
    "svm_linear_model.fit(data_new,y_new)"
   ]
  },
  {
   "cell_type": "code",
   "execution_count": 53,
   "id": "fbd17613",
   "metadata": {},
   "outputs": [
    {
     "name": "stdout",
     "output_type": "stream",
     "text": [
      "[[10.35  0.39]\n",
      " [17.5   0.96]\n",
      " [12.75  3.3 ]]\n"
     ]
    }
   ],
   "source": [
    "print(svm_linear_model.support_vectors_)"
   ]
  },
  {
   "cell_type": "code",
   "execution_count": 67,
   "id": "8cc095f3",
   "metadata": {},
   "outputs": [
    {
     "name": "stdout",
     "output_type": "stream",
     "text": [
      "Parameters learned for the SVM classifier: \n",
      "w1= -0.0588 w2= 0.7354 b= -0.6780\n"
     ]
    }
   ],
   "source": [
    "w1 =svm_linear_model.coef_[0,0]\n",
    "w2 =svm_linear_model.coef_[0,1]\n",
    "b =svm_linear_model.intercept_[0]\n",
    "print(\"Parameters learned for the SVM classifier: \")\n",
    "print(\"w1= {:.4f} w2= {:.4f} b= {:.4f}\".format(w1, w2, b))"
   ]
  },
  {
   "cell_type": "code",
   "execution_count": 71,
   "id": "e92919d7",
   "metadata": {},
   "outputs": [
    {
     "name": "stdout",
     "output_type": "stream",
     "text": [
      "Equation of the decision boundry:\n",
      "f(x) = (-0.0588)*x1 + (0.7354)*x2 + -0.6780 = 0\n"
     ]
    }
   ],
   "source": [
    "print('Equation of the decision boundry:')\n",
    "print(\"f(x) = ({:.4f})*x1 + ({:.4f})*x2 + {:.4f} = 0\".format(w1, w2, b))"
   ]
  },
  {
   "cell_type": "code",
   "execution_count": 72,
   "id": "d8e1206b",
   "metadata": {},
   "outputs": [
    {
     "name": "stdout",
     "output_type": "stream",
     "text": [
      "Training set accuracy of kernelized svm= 0.98\n",
      "Training set accuracy of linear svm= 1.0\n"
     ]
    }
   ],
   "source": [
    "svm_accuracy= svm.score(X,y)\n",
    "svm_linear_accuracy= svm_linear_model.score(data_new,y_new)\n",
    "print('Training set accuracy of kernelized svm= {}'.format(svm_accuracy))\n",
    "print('Training set accuracy of linear svm= {}'.format(svm_linear_accuracy))"
   ]
  },
  {
   "cell_type": "code",
   "execution_count": 86,
   "id": "c4dfe9b5",
   "metadata": {},
   "outputs": [
    {
     "name": "stdout",
     "output_type": "stream",
     "text": [
      "(8.999, 31.021)\n",
      "[ 8.999       9.44842857  9.89785714 10.34728571 10.79671429 11.24614286\n",
      " 11.69557143 12.145      12.59442857 13.04385714 13.49328571 13.94271429\n",
      " 14.39214286 14.84157143 15.291      15.74042857 16.18985714 16.63928571\n",
      " 17.08871429 17.53814286 17.98757143 18.437      18.88642857 19.33585714\n",
      " 19.78528571 20.23471429 20.68414286 21.13357143 21.583      22.03242857\n",
      " 22.48185714 22.93128571 23.38071429 23.83014286 24.27957143 24.729\n",
      " 25.17842857 25.62785714 26.07728571 26.52671429 26.97614286 27.42557143\n",
      " 27.875      28.32442857 28.77385714 29.22328571 29.67271429 30.12214286\n",
      " 30.57157143 31.021     ]\n"
     ]
    },
    {
     "data": {
      "image/png": "[encoded data removed]",
      "text/plain": [
       "<Figure size 432x288 with 1 Axes>"
      ]
     },
     "metadata": {
      "needs_background": "light"
     },
     "output_type": "display_data"
    }
   ],
   "source": [
    "fig, ax = plt.subplots()\n",
    "ax.scatter(data_new.loc[y_new==0, 'sepal_area'],data_new.loc[y_new==0, 'petal_area'], label='Setosa', color='blue')\n",
    "ax.scatter(data_new.loc[y_new==1, 'sepal_area'],data_new.loc[y_new==1, 'petal_area'], label='Versicolor\\nVerginica',color='orange')\n",
    "\n",
    "ax.set_xlabel(r'$x_1$: Sepal length $\\times$ width (cm$^2$)', fontsize=12)\n",
    "ax.set_ylabel(r'$x_2$: Petal length $\\times$ width (cm$^2$)', fontsize=12)\n",
    "\n",
    "ax.scatter(svm_linear_model.support_vectors_[:,0],svm_linear_model.support_vectors_[:,1],marker='o',s=150,facecolors='none', edgecolor='black',label='Support vectors')\n",
    "\n",
    "line_svm = lambda x:-(w1/w2)*x-b\n",
    "x1_lim = ax.get_xlim()\n",
    "print(x1_lim)\n",
    "x1_range = np.linspace(x1_lim[0],x1_lim[1],50)\n",
    "print(x1_range)\n",
    "x2 = line_svm(x1_range)\n",
    "ax.plot(x1_range,x2,color='black',label='SVM Linear')\n",
    "\n",
    "ax.legend()\n",
    "plt.show()"
   ]
  },
  {
   "cell_type": "code",
   "execution_count": null,
   "id": "fc73eb2e",
   "metadata": {},
   "outputs": [],
   "source": []
  }
 ],
 "metadata": {
  "kernelspec": {
   "display_name": "Python 3 (ipykernel)",
   "language": "python",
   "name": "python3"
  },
  "language_info": {
   "codemirror_mode": {
    "name": "ipython",
    "version": 3
   },
   "file_extension": ".py",
   "mimetype": "text/x-python",
   "name": "python",
   "nbconvert_exporter": "python",
   "pygments_lexer": "ipython3",
   "version": "3.9.12"
  }
 },
 "nbformat": 4,
 "nbformat_minor": 5
}
